{
 "cells": [
  {
   "cell_type": "code",
   "execution_count": 1,
   "id": "b5f88933-1f96-40b5-bc0d-de23923490f1",
   "metadata": {},
   "outputs": [
    {
     "name": "stderr",
     "output_type": "stream",
     "text": [
      "/home/egp/.virtualenvs/landlab/lib/python3.9/site-packages/statsmodels/compat/pandas.py:65: FutureWarning: pandas.Int64Index is deprecated and will be removed from pandas in a future version. Use pandas.Index with the appropriate dtype instead.\n",
      "  from pandas import Int64Index as NumericIndex\n"
     ]
    }
   ],
   "source": [
    "import numpy as np\n",
    "import matplotlib.pyplot as plt\n",
    "\n",
    "from landlab import RasterModelGrid\n",
    "from landlab.plot import imshow_grid\n",
    "from landlab.io import read_esri_ascii\n",
    "from landlab.components import ExponentialWeatherer, DepthDependentTaylorDiffuser"
   ]
  },
  {
   "cell_type": "markdown",
   "id": "7d14d3bb-9115-45f6-8b59-8ba6c320ccc3",
   "metadata": {},
   "source": [
    "The following cell kills the kernel:"
   ]
  },
  {
   "cell_type": "raw",
   "id": "96c1b4bf-3b36-4376-8a09-a2efaa036336",
   "metadata": {},
   "source": [
    "(grid, z) = read_esri_ascii('./gis/projects/dem/eightmile-30m.asc', name = 'topographic__elevation')"
   ]
  }
 ],
 "metadata": {
  "kernelspec": {
   "display_name": "Python 3 (ipykernel)",
   "language": "python",
   "name": "python3"
  },
  "language_info": {
   "codemirror_mode": {
    "name": "ipython",
    "version": 3
   },
   "file_extension": ".py",
   "mimetype": "text/x-python",
   "name": "python",
   "nbconvert_exporter": "python",
   "pygments_lexer": "ipython3",
   "version": "3.9.7"
  }
 },
 "nbformat": 4,
 "nbformat_minor": 5
}
